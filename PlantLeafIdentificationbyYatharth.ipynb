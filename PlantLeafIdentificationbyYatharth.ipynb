{
  "nbformat": 4,
  "nbformat_minor": 0,
  "metadata": {
    "colab": {
      "name": "PlantLeafIdentificationbyYatharth.ipynb",
      "provenance": [],
      "collapsed_sections": [],
      "mount_file_id": "17d76Bm91REGzKlUM2E4g2M4aVGcoLg-b",
      "authorship_tag": "ABX9TyMlrP2+mwdIvZgFVP+BZqYz",
      "include_colab_link": true
    },
    "kernelspec": {
      "name": "python3",
      "display_name": "Python 3"
    },
    "language_info": {
      "name": "python"
    },
    "accelerator": "GPU"
  },
  "cells": [
    {
      "cell_type": "markdown",
      "metadata": {
        "id": "view-in-github",
        "colab_type": "text"
      },
      "source": [
        "<a href=\"https://colab.research.google.com/github/Warlord-K/PlantLeafIdentificationModel/blob/main/PlantLeafIdentificationbyYatharth.ipynb\" target=\"_parent\"><img src=\"https://colab.research.google.com/assets/colab-badge.svg\" alt=\"Open In Colab\"/></a>"
      ]
    },
    {
      "cell_type": "code",
      "execution_count": null,
      "metadata": {
        "id": "yGXvKTmKO74O"
      },
      "outputs": [],
      "source": [
        "import numpy as np\n",
        "import matplotlib.pyplot as plt\n",
        "%tensorflow_version 2.x\n",
        "import tensorflow as tf\n",
        "import pandas as pd"
      ]
    },
    {
      "cell_type": "code",
      "source": [
        "#Load Dataset from Images Folder\n",
        "\n",
        "from PIL import Image\n",
        "images = []\n",
        "image_labels = []\n",
        "IMG_SIZE = (224,224)\n",
        "categories = [\"Pupescent bamboo\",\"Chinese Horse Chestnut\", \"Chinese Redbud\",\"True Indigo\",\"Japanese Maple\",\"Nanmu\",\"Castor Aralia\",\n",
        "              \"goldenrain tree\",\"Chinese cinnamon\",\"Anhui Barberry\",\"Big-fruited Holly\",\"Japanese cheesewood\",\"wintersweet\",\"camphortree\",\n",
        "              \"Japan Arrowwood\",\"sweet osmanthus\",\"deodar\",\"ginkgo, maidenhair tree\",\"Crepe myrtle\",\"oleander\",\"yew plum pine\",\"Japanese Flowering Cherry\",\n",
        "              \"Glossy Privet\",\"Chinese Toon\",\"peach\",\"Ford Woodlotus\",\"trident maple\",\"Beale's barberry\",\"southern magnolia\",\"Canadian poplar\",\n",
        "              \"Chinese tulip tree\",\"tangerine\"\n",
        "              ]\n",
        "start_end_numbers = [[1001,1059],[1060,1122],[1123,1194],[1195,1267],[1268,1323],[1324,1385],[1386,1437],[1438,1496],[1497,1551],[1552,1616],\n",
        "                     [2001,2050],[2051,2113],[2114,2165],[2166,2030],[2031,2090],[2191,2346],[2347,2423],[2424,2485],[2486,2546],[2547,2612],\n",
        "                     [2616,2675],[3001,3055],[3056,3110],[3111,3175],[3176,3229],[3230,3281],[3282,3334],[3335,3389],[3390,3446],[3447,3510],\n",
        "                     [3511,3563],[3566,3621]]\n",
        "\n",
        "def resize_img(img):\n",
        "    img = img/255\n",
        "    img = tf.image.resize(img, IMG_SIZE)\n",
        "    return img\n",
        "\n",
        "for i,category in enumerate(categories):\n",
        "    for j in range(start_end_numbers[i][0],start_end_numbers[i][1]+1):\n",
        "        image_labels.append([0]*32)\n",
        "        image_labels[-1][i] = 1\n",
        "        #image_labels.append(i)\n",
        "        images.append(resize_img(np.asarray(Image.open(\"/content/drive/MyDrive/Leaves/\"+str(j)+\".jpg\"))))"
      ],
      "metadata": {
        "id": "4LUL3wdZtWAL"
      },
      "execution_count": null,
      "outputs": []
    },
    {
      "cell_type": "code",
      "source": [
        "#Load Dataset from CSV file\n",
        "\n",
        "df = pd.read_csv(\"https://drive.google.com/uc?export=download&id=1-2WfeJpS-kp4CQMZg8cQNftMhkd0jh9d\") #Change This Link\n",
        "images = []\n",
        "\n",
        "df1 = pd.read_csv(\"https://drive.google.com/uc?export=download&id=1-5mnoMsoC_jURQAqZuMHJWqgrOWqiRP7\")\n",
        "labels = df1[\"labels\"]\n",
        "image_labels = []\n",
        "\n",
        "\n",
        "for i in range(1942):\n",
        "    images.append = df[i]\n",
        "images = list(map(np.asarray,images))\n",
        "\n",
        "for i in range(1942):\n",
        "    images[i] = tf.reshape(images[i],(224,224,3))\n",
        "    image_labels.append([0]*32)\n",
        "    image_labels[-1][labels[i]] = 1"
      ],
      "metadata": {
        "id": "5lYMLAOIR1ml"
      },
      "execution_count": null,
      "outputs": []
    },
    {
      "cell_type": "code",
      "source": [
        "image_labels = list(map(tf.constant,image_labels))\n",
        "data = tf.data.Dataset.from_tensor_slices((images, image_labels)).shuffle(buffer_size=5000)\n",
        "test = data.skip(1600)\n",
        "train = data.take(1600)\n",
        "train_batches = train.batch(32)\n",
        "test_batches = test.batch(32)\n"
      ],
      "metadata": {
        "id": "MLN5usEurChM"
      },
      "execution_count": null,
      "outputs": []
    },
    {
      "cell_type": "code",
      "source": [
        "IMG_SHAPE = (224, 224, 3)\n",
        "\n",
        "conv_layer = tf.keras.applications.MobileNetV2(input_shape=IMG_SHAPE,\n",
        "                                               include_top=False,\n",
        "                                               weights='imagenet')\n",
        "conv_layer.trainable = False\n",
        "\n",
        "pooling_layer = tf.keras.layers.GlobalAveragePooling2D()\n",
        "output_layer = tf.keras.layers.Dense(32)\n",
        "model = tf.keras.Sequential([\n",
        "  conv_layer,\n",
        "  pooling_layer,\n",
        "  output_layer\n",
        "])"
      ],
      "metadata": {
        "id": "wbmcXw9YqOtQ",
        "colab": {
          "base_uri": "https://localhost:8080/"
        },
        "outputId": "cae59c48-d5f0-4136-c4a4-88d190f3c8fe"
      },
      "execution_count": null,
      "outputs": [
        {
          "output_type": "stream",
          "name": "stdout",
          "text": [
            "Downloading data from https://storage.googleapis.com/tensorflow/keras-applications/mobilenet_v2/mobilenet_v2_weights_tf_dim_ordering_tf_kernels_1.0_224_no_top.h5\n",
            "9412608/9406464 [==============================] - 0s 0us/step\n",
            "9420800/9406464 [==============================] - 0s 0us/step\n"
          ]
        }
      ]
    },
    {
      "cell_type": "code",
      "source": [
        "model.summary()"
      ],
      "metadata": {
        "colab": {
          "base_uri": "https://localhost:8080/"
        },
        "id": "ffD69A5_VOaH",
        "outputId": "16ca2a6a-c165-4122-e213-0d71b842b562"
      },
      "execution_count": null,
      "outputs": [
        {
          "output_type": "stream",
          "name": "stdout",
          "text": [
            "Model: \"sequential\"\n",
            "_________________________________________________________________\n",
            " Layer (type)                Output Shape              Param #   \n",
            "=================================================================\n",
            " mobilenetv2_1.00_224 (Funct  (None, 7, 7, 1280)       2257984   \n",
            " ional)                                                          \n",
            "                                                                 \n",
            " global_average_pooling2d (G  (None, 1280)             0         \n",
            " lobalAveragePooling2D)                                          \n",
            "                                                                 \n",
            " dense (Dense)               (None, 32)                40992     \n",
            "                                                                 \n",
            "=================================================================\n",
            "Total params: 2,298,976\n",
            "Trainable params: 40,992\n",
            "Non-trainable params: 2,257,984\n",
            "_________________________________________________________________\n"
          ]
        }
      ]
    },
    {
      "cell_type": "code",
      "source": [
        "model.compile(optimizer=tf.keras.optimizers.RMSprop(learning_rate=0.01),\n",
        "              loss=tf.keras.losses.CategoricalCrossentropy(from_logits=True),\n",
        "              metrics=[\"accuracy\"])"
      ],
      "metadata": {
        "id": "TytLSki6qbog"
      },
      "execution_count": null,
      "outputs": []
    },
    {
      "cell_type": "code",
      "source": [
        "history = model.fit(train_batches,epochs=8)\n",
        "loss0,accuracy0 = model.evaluate(test_batches)"
      ],
      "metadata": {
        "colab": {
          "base_uri": "https://localhost:8080/"
        },
        "id": "ib02popev0B8",
        "outputId": "07494b19-cf35-4be0-8864-759046136eb4"
      },
      "execution_count": null,
      "outputs": [
        {
          "output_type": "stream",
          "name": "stdout",
          "text": [
            "Epoch 1/8\n",
            "50/50 [==============================] - 53s 1s/step - loss: 1.8147 - accuracy: 0.7500\n",
            "Epoch 2/8\n",
            "50/50 [==============================] - 42s 838ms/step - loss: 0.3669 - accuracy: 0.9225\n",
            "Epoch 3/8\n",
            "50/50 [==============================] - 42s 833ms/step - loss: 0.3540 - accuracy: 0.9319\n",
            "Epoch 4/8\n",
            "50/50 [==============================] - 42s 838ms/step - loss: 0.3076 - accuracy: 0.9413\n",
            "Epoch 5/8\n",
            "50/50 [==============================] - 42s 838ms/step - loss: 0.2430 - accuracy: 0.9531\n",
            "Epoch 6/8\n",
            "50/50 [==============================] - 42s 835ms/step - loss: 0.2836 - accuracy: 0.9525\n",
            "Epoch 7/8\n",
            "50/50 [==============================] - 42s 832ms/step - loss: 0.1933 - accuracy: 0.9706\n",
            "Epoch 8/8\n",
            "50/50 [==============================] - 42s 833ms/step - loss: 0.2690 - accuracy: 0.9575\n",
            "11/11 [==============================] - 12s 828ms/step - loss: 0.2988 - accuracy: 0.9591\n"
          ]
        }
      ]
    },
    {
      "cell_type": "code",
      "source": [
        "id = np.random.randint(1942)\n",
        "pred = model.predict(tf.reshape(images[id],(1,224,224,3)))\n",
        "plt.figure()\n",
        "plt.imshow(images[id])\n",
        "plt.title(categories[list(image_labels[id]).index(1)])\n",
        "\n",
        "\n",
        "guess = list(pred[0]).index(max(pred[0]))\n",
        "pred = list(map(int,pred[0]))\n",
        "print(pred,guess+1)\n",
        "print(\"Prediction: \" + categories[guess])"
      ],
      "metadata": {
        "colab": {
          "base_uri": "https://localhost:8080/",
          "height": 316
        },
        "id": "WWjM5_oX4i2c",
        "outputId": "8e6ac30c-924a-4473-88b5-95f4f474ca0b"
      },
      "execution_count": null,
      "outputs": [
        {
          "output_type": "stream",
          "name": "stdout",
          "text": [
            "[19, 22, -5, -4, 5, 27, -7, 0, 31, 13, -5, 19, 9, -14, 16, 6, 7, -3, -15, 52, 25, 10, 14, 19, 26, 29, 7, -10, 10, -5, 0, 15] 20\n",
            "Prediction: oleander\n"
          ]
        },
        {
          "output_type": "display_data",
          "data": {
            "image/png": "[encoded data removed]",
            "text/plain": [
              "<Figure size 432x288 with 1 Axes>"
            ]
          },
          "metadata": {
            "needs_background": "light"
          }
        }
      ]
    },
    {
      "cell_type": "markdown",
      "source": [
        "Model Finished,Now some extra code that i used to make the csv files"
      ],
      "metadata": {
        "id": "nsbG7iPSR-EA"
      }
    },
    {
      "cell_type": "code",
      "source": [
        "def transform_img(img):\n",
        "    return np.asarray(tf.reshape(img,-1))\n",
        "\n",
        "transformed_images = list(map(transform_img,images))\n",
        "\n",
        "df = pd.DataFrame()\n",
        "for i in range(1942):\n",
        "    df[i] = transformed_images[i]\n",
        "\n",
        "df1 = pd.DataFrame()\n",
        "df1[\"labels\"] = image_labels\n",
        "df.to_csv(\"/content/drive/MyDrive/Leaves_Dataset.csv\")\n",
        "df1.to_csv(\"/content/drive/MyDrive/Leaves_Dataset_labels.csv\")"
      ],
      "metadata": {
        "id": "qehY_DdA1h0f"
      },
      "execution_count": null,
      "outputs": []
    }
  ]
}